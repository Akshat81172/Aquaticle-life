{
 "cells": [
  {
   "cell_type": "code",
   "execution_count": null,
   "id": "dE8-XcpGQVQH",
   "metadata": {
    "id": "dE8-XcpGQVQH"
   },
   "outputs": [],
   "source": []
  },
  {
   "cell_type": "code",
   "execution_count": 1,
   "id": "RxmIxukJDWCC",
   "metadata": {
    "colab": {
     "base_uri": "https://localhost:8080/"
    },
    "executionInfo": {
     "elapsed": 6247,
     "status": "ok",
     "timestamp": 1740404078807,
     "user": {
      "displayName": "SAHIL",
      "userId": "02857545347317603560"
     },
     "user_tz": -330
    },
    "id": "RxmIxukJDWCC",
    "outputId": "5b54c7e0-ebbc-4b50-9f80-5129f8db7c5d"
   },
   "outputs": [
    {
     "name": "stdout",
     "output_type": "stream",
     "text": [
      "Requirement already satisfied: optuna in c:\\users\\aksha\\appdata\\roaming\\python\\python312\\site-packages (4.3.0)\n",
      "Requirement already satisfied: alembic>=1.5.0 in c:\\users\\aksha\\appdata\\roaming\\python\\python312\\site-packages (from optuna) (1.15.2)\n",
      "Requirement already satisfied: colorlog in c:\\users\\aksha\\appdata\\roaming\\python\\python312\\site-packages (from optuna) (6.9.0)\n",
      "Requirement already satisfied: numpy in c:\\users\\aksha\\anaconda3\\lib\\site-packages (from optuna) (1.26.4)\n",
      "Requirement already satisfied: packaging>=20.0 in c:\\users\\aksha\\appdata\\roaming\\python\\python312\\site-packages (from optuna) (24.1)\n",
      "Requirement already satisfied: sqlalchemy>=1.4.2 in c:\\users\\aksha\\anaconda3\\lib\\site-packages (from optuna) (2.0.34)\n",
      "Requirement already satisfied: tqdm in c:\\users\\aksha\\appdata\\roaming\\python\\python312\\site-packages (from optuna) (4.66.5)\n",
      "Requirement already satisfied: PyYAML in c:\\users\\aksha\\appdata\\roaming\\python\\python312\\site-packages (from optuna) (6.0.2)\n",
      "Requirement already satisfied: Mako in c:\\users\\aksha\\appdata\\roaming\\python\\python312\\site-packages (from alembic>=1.5.0->optuna) (1.3.10)\n",
      "Requirement already satisfied: typing-extensions>=4.12 in c:\\users\\aksha\\appdata\\roaming\\python\\python312\\site-packages (from alembic>=1.5.0->optuna) (4.12.2)\n",
      "Requirement already satisfied: greenlet!=0.4.17 in c:\\users\\aksha\\anaconda3\\lib\\site-packages (from sqlalchemy>=1.4.2->optuna) (3.0.1)\n",
      "Requirement already satisfied: colorama in c:\\users\\aksha\\appdata\\roaming\\python\\python312\\site-packages (from colorlog->optuna) (0.4.6)\n",
      "Requirement already satisfied: MarkupSafe>=0.9.2 in c:\\users\\aksha\\appdata\\roaming\\python\\python312\\site-packages (from Mako->alembic>=1.5.0->optuna) (2.1.5)\n",
      "Note: you may need to restart the kernel to use updated packages.\n"
     ]
    },
    {
     "name": "stderr",
     "output_type": "stream",
     "text": [
      "WARNING: Ignoring invalid distribution ~ (C:\\Users\\aksha\\AppData\\Roaming\\Python\\Python312\\site-packages)\n",
      "WARNING: Ignoring invalid distribution ~ (C:\\Users\\aksha\\AppData\\Roaming\\Python\\Python312\\site-packages)\n",
      "WARNING: Ignoring invalid distribution ~ (C:\\Users\\aksha\\AppData\\Roaming\\Python\\Python312\\site-packages)\n",
      "WARNING: Ignoring invalid distribution ~ (C:\\Users\\aksha\\AppData\\Roaming\\Python\\Python312\\site-packages)\n",
      "WARNING: Ignoring invalid distribution ~ (C:\\Users\\aksha\\AppData\\Roaming\\Python\\Python312\\site-packages)\n"
     ]
    }
   ],
   "source": [
    "pip install optuna"
   ]
  },
  {
   "cell_type": "code",
   "execution_count": 2,
   "id": "PzjERFzJDWE8",
   "metadata": {
    "id": "PzjERFzJDWE8"
   },
   "outputs": [
    {
     "name": "stdout",
     "output_type": "stream",
     "text": [
      "Requirement already satisfied: numpy in c:\\users\\aksha\\anaconda3\\lib\\site-packages (1.26.4)\n",
      "Note: you may need to restart the kernel to use updated packages.\n"
     ]
    },
    {
     "name": "stderr",
     "output_type": "stream",
     "text": [
      "WARNING: Ignoring invalid distribution ~ (C:\\Users\\aksha\\AppData\\Roaming\\Python\\Python312\\site-packages)\n",
      "WARNING: Ignoring invalid distribution ~ (C:\\Users\\aksha\\AppData\\Roaming\\Python\\Python312\\site-packages)\n",
      "WARNING: Ignoring invalid distribution ~ (C:\\Users\\aksha\\AppData\\Roaming\\Python\\Python312\\site-packages)\n",
      "WARNING: Ignoring invalid distribution ~ (C:\\Users\\aksha\\AppData\\Roaming\\Python\\Python312\\site-packages)\n",
      "WARNING: Ignoring invalid distribution ~ (C:\\Users\\aksha\\AppData\\Roaming\\Python\\Python312\\site-packages)\n"
     ]
    }
   ],
   "source": [
    "pip install numpy"
   ]
  },
  {
   "cell_type": "code",
   "execution_count": 3,
   "id": "x-S8QRyybBWG",
   "metadata": {
    "id": "x-S8QRyybBWG"
   },
   "outputs": [
    {
     "name": "stdout",
     "output_type": "stream",
     "text": [
      "Requirement already satisfied: scikit-learn in c:\\users\\aksha\\appdata\\roaming\\python\\python312\\site-packages (1.6.1)\n",
      "Requirement already satisfied: numpy>=1.19.5 in c:\\users\\aksha\\anaconda3\\lib\\site-packages (from scikit-learn) (1.26.4)\n",
      "Requirement already satisfied: scipy>=1.6.0 in c:\\users\\aksha\\appdata\\roaming\\python\\python312\\site-packages (from scikit-learn) (1.14.0)\n",
      "Requirement already satisfied: joblib>=1.2.0 in c:\\users\\aksha\\appdata\\roaming\\python\\python312\\site-packages (from scikit-learn) (1.4.2)\n",
      "Requirement already satisfied: threadpoolctl>=3.1.0 in c:\\users\\aksha\\appdata\\roaming\\python\\python312\\site-packages (from scikit-learn) (3.5.0)\n",
      "Note: you may need to restart the kernel to use updated packages.\n"
     ]
    },
    {
     "name": "stderr",
     "output_type": "stream",
     "text": [
      "WARNING: Ignoring invalid distribution ~ (C:\\Users\\aksha\\AppData\\Roaming\\Python\\Python312\\site-packages)\n",
      "WARNING: Ignoring invalid distribution ~ (C:\\Users\\aksha\\AppData\\Roaming\\Python\\Python312\\site-packages)\n",
      "WARNING: Ignoring invalid distribution ~ (C:\\Users\\aksha\\AppData\\Roaming\\Python\\Python312\\site-packages)\n",
      "WARNING: Ignoring invalid distribution ~ (C:\\Users\\aksha\\AppData\\Roaming\\Python\\Python312\\site-packages)\n",
      "WARNING: Ignoring invalid distribution ~ (C:\\Users\\aksha\\AppData\\Roaming\\Python\\Python312\\site-packages)\n"
     ]
    }
   ],
   "source": [
    "pip install scikit-learn"
   ]
  },
  {
   "cell_type": "code",
   "execution_count": 1,
   "id": "sU6CNxtrwy2g",
   "metadata": {
    "id": "sU6CNxtrwy2g"
   },
   "outputs": [
    {
     "name": "stdout",
     "output_type": "stream",
     "text": [
      "Defaulting to user installation because normal site-packages is not writeable\n",
      "Requirement already satisfied: torch in c:\\users\\aksha\\appdata\\roaming\\python\\python312\\site-packages (2.6.0+cu118)\n",
      "Requirement already satisfied: filelock in c:\\users\\aksha\\appdata\\roaming\\python\\python312\\site-packages (from torch) (3.16.1)\n",
      "Requirement already satisfied: typing-extensions>=4.10.0 in c:\\users\\aksha\\appdata\\roaming\\python\\python312\\site-packages (from torch) (4.12.2)\n",
      "Requirement already satisfied: networkx in c:\\programdata\\anaconda3\\lib\\site-packages (from torch) (3.3)\n",
      "Requirement already satisfied: jinja2 in c:\\users\\aksha\\appdata\\roaming\\python\\python312\\site-packages (from torch) (3.1.4)\n",
      "Requirement already satisfied: fsspec in c:\\users\\aksha\\appdata\\roaming\\python\\python312\\site-packages (from torch) (2024.9.0)\n",
      "Requirement already satisfied: setuptools in c:\\programdata\\anaconda3\\lib\\site-packages (from torch) (75.1.0)\n",
      "Requirement already satisfied: sympy==1.13.1 in c:\\users\\aksha\\appdata\\roaming\\python\\python312\\site-packages (from torch) (1.13.1)\n",
      "Requirement already satisfied: mpmath<1.4,>=1.1.0 in c:\\programdata\\anaconda3\\lib\\site-packages (from sympy==1.13.1->torch) (1.3.0)\n",
      "Requirement already satisfied: MarkupSafe>=2.0 in c:\\users\\aksha\\appdata\\roaming\\python\\python312\\site-packages (from jinja2->torch) (2.1.5)\n",
      "Note: you may need to restart the kernel to use updated packages.\n"
     ]
    },
    {
     "name": "stderr",
     "output_type": "stream",
     "text": [
      "WARNING: Ignoring invalid distribution ~ (C:\\Users\\aksha\\AppData\\Roaming\\Python\\Python312\\site-packages)\n",
      "WARNING: Ignoring invalid distribution ~ (C:\\Users\\aksha\\AppData\\Roaming\\Python\\Python312\\site-packages)\n",
      "WARNING: Ignoring invalid distribution ~ (C:\\Users\\aksha\\AppData\\Roaming\\Python\\Python312\\site-packages)\n",
      "WARNING: Ignoring invalid distribution ~ (C:\\Users\\aksha\\AppData\\Roaming\\Python\\Python312\\site-packages)\n",
      "WARNING: Ignoring invalid distribution ~ (C:\\Users\\aksha\\AppData\\Roaming\\Python\\Python312\\site-packages)\n",
      "WARNING: Ignoring invalid distribution ~ (C:\\Users\\aksha\\AppData\\Roaming\\Python\\Python312\\site-packages)\n"
     ]
    }
   ],
   "source": [
    "pip install torch"
   ]
  },
  {
   "cell_type": "code",
   "execution_count": 47,
   "id": "PdvGFTKOxg5_",
   "metadata": {
    "colab": {
     "base_uri": "https://localhost:8080/",
     "height": 1000
    },
    "executionInfo": {
     "elapsed": 356854,
     "status": "ok",
     "timestamp": 1740416689618,
     "user": {
      "displayName": "SAHIL",
      "userId": "02857545347317603560"
     },
     "user_tz": -330
    },
    "id": "PdvGFTKOxg5_",
    "outputId": "9086a4a8-d55a-4533-9adf-a502be449478"
   },
   "outputs": [
    {
     "name": "stdout",
     "output_type": "stream",
     "text": [
      "Drive already mounted at /content/drive; to attempt to forcibly remount, call drive.mount(\"/content/drive\", force_remount=True).\n"
     ]
    },
    {
     "data": {
      "image/png": "[encoded data removed]",
      "text/plain": [
       "<Figure size 600x400 with 1 Axes>"
      ]
     },
     "metadata": {},
     "output_type": "display_data"
    },
    {
     "name": "stderr",
     "output_type": "stream",
     "text": [
      "[I 2025-02-24 17:00:18,313] A new study created in memory with name: no-name-5174f0a4-c070-4608-b272-83069d391a5c\n",
      "[I 2025-02-24 17:00:25,981] Trial 0 finished with value: 0.1712232857942581 and parameters: {'hidden_size_1': 208, 'hidden_size_2': 104, 'hidden_size_3': 34, 'dropout_prob': 0.4750625213228659, 'learning_rate': 0.0022325460987262136}. Best is trial 0 with value: 0.1712232857942581.\n",
      "[I 2025-02-24 17:00:30,450] Trial 1 finished with value: 0.9206021308898926 and parameters: {'hidden_size_1': 73, 'hidden_size_2': 105, 'hidden_size_3': 36, 'dropout_prob': 0.3552868254717576, 'learning_rate': 6.648818208258824e-05}. Best is trial 0 with value: 0.1712232857942581.\n",
      "[I 2025-02-24 17:00:34,781] Trial 2 finished with value: 0.967828631401062 and parameters: {'hidden_size_1': 117, 'hidden_size_2': 61, 'hidden_size_3': 60, 'dropout_prob': 0.313229480887936, 'learning_rate': 3.343908389644261e-05}. Best is trial 0 with value: 0.1712232857942581.\n",
      "[I 2025-02-24 17:00:44,573] Trial 3 finished with value: 0.30126549005508424 and parameters: {'hidden_size_1': 230, 'hidden_size_2': 123, 'hidden_size_3': 19, 'dropout_prob': 0.38445430256378893, 'learning_rate': 0.0016993937379670555}. Best is trial 0 with value: 0.1712232857942581.\n",
      "[I 2025-02-24 17:00:49,778] Trial 4 finished with value: 0.8459505915641785 and parameters: {'hidden_size_1': 176, 'hidden_size_2': 59, 'hidden_size_3': 34, 'dropout_prob': 0.4728822278184756, 'learning_rate': 0.00012092296521973371}. Best is trial 0 with value: 0.1712232857942581.\n",
      "[I 2025-02-24 17:00:56,737] Trial 5 finished with value: 0.27822243571281435 and parameters: {'hidden_size_1': 185, 'hidden_size_2': 68, 'hidden_size_3': 52, 'dropout_prob': 0.3794180629648911, 'learning_rate': 0.0010045170282936503}. Best is trial 0 with value: 0.1712232857942581.\n",
      "[I 2025-02-24 17:01:02,530] Trial 6 finished with value: 0.8892627477645874 and parameters: {'hidden_size_1': 206, 'hidden_size_2': 74, 'hidden_size_3': 32, 'dropout_prob': 0.439055469851564, 'learning_rate': 5.159561273168467e-05}. Best is trial 0 with value: 0.1712232857942581.\n",
      "[I 2025-02-24 17:01:06,315] Trial 7 finished with value: 0.2062677264213562 and parameters: {'hidden_size_1': 82, 'hidden_size_2': 40, 'hidden_size_3': 58, 'dropout_prob': 0.2664217700913131, 'learning_rate': 0.0017626622049713018}. Best is trial 0 with value: 0.1712232857942581.\n",
      "[I 2025-02-24 17:01:11,289] Trial 8 finished with value: 0.9572567820549012 and parameters: {'hidden_size_1': 92, 'hidden_size_2': 112, 'hidden_size_3': 57, 'dropout_prob': 0.3503723582365711, 'learning_rate': 3.669694734949011e-05}. Best is trial 0 with value: 0.1712232857942581.\n",
      "[I 2025-02-24 17:01:17,082] Trial 9 finished with value: 1.0372353315353393 and parameters: {'hidden_size_1': 171, 'hidden_size_2': 91, 'hidden_size_3': 39, 'dropout_prob': 0.29455493082526685, 'learning_rate': 2.08347077755165e-05}. Best is trial 0 with value: 0.1712232857942581.\n",
      "[I 2025-02-24 17:01:25,529] Trial 10 finished with value: 0.09202218502759933 and parameters: {'hidden_size_1': 254, 'hidden_size_2': 88, 'hidden_size_3': 18, 'dropout_prob': 0.21049365532053074, 'learning_rate': 0.008808267913707422}. Best is trial 10 with value: 0.09202218502759933.\n",
      "[I 2025-02-24 17:01:33,749] Trial 11 finished with value: 0.07702148482203483 and parameters: {'hidden_size_1': 256, 'hidden_size_2': 92, 'hidden_size_3': 16, 'dropout_prob': 0.20023726301245595, 'learning_rate': 0.009997957893457247}. Best is trial 11 with value: 0.07702148482203483.\n",
      "[I 2025-02-24 17:01:41,538] Trial 12 finished with value: 0.08044192641973495 and parameters: {'hidden_size_1': 253, 'hidden_size_2': 88, 'hidden_size_3': 18, 'dropout_prob': 0.20013869256856456, 'learning_rate': 0.009740064230058194}. Best is trial 11 with value: 0.07702148482203483.\n",
      "[I 2025-02-24 17:01:50,377] Trial 13 finished with value: 0.07406067624688148 and parameters: {'hidden_size_1': 256, 'hidden_size_2': 85, 'hidden_size_3': 25, 'dropout_prob': 0.2002756852972297, 'learning_rate': 0.008641611932243073}. Best is trial 13 with value: 0.07406067624688148.\n",
      "[I 2025-02-24 17:01:54,133] Trial 14 finished with value: 0.12669313400983812 and parameters: {'hidden_size_1': 136, 'hidden_size_2': 50, 'hidden_size_3': 26, 'dropout_prob': 0.24353867967753168, 'learning_rate': 0.00450786405836268}. Best is trial 13 with value: 0.07406067624688148.\n",
      "[I 2025-02-24 17:02:02,974] Trial 15 finished with value: 0.4603562533855438 and parameters: {'hidden_size_1': 228, 'hidden_size_2': 81, 'hidden_size_3': 26, 'dropout_prob': 0.24861031987404114, 'learning_rate': 0.0004142722851962924}. Best is trial 13 with value: 0.07406067624688148.\n",
      "[I 2025-02-24 17:02:10,938] Trial 16 finished with value: 0.3935277104377747 and parameters: {'hidden_size_1': 230, 'hidden_size_2': 94, 'hidden_size_3': 47, 'dropout_prob': 0.22709958384038084, 'learning_rate': 0.0003112647209911449}. Best is trial 13 with value: 0.07406067624688148.\n",
      "[I 2025-02-24 17:02:19,717] Trial 17 finished with value: 0.10165959894657135 and parameters: {'hidden_size_1': 201, 'hidden_size_2': 127, 'hidden_size_3': 25, 'dropout_prob': 0.2891153803039892, 'learning_rate': 0.005037269759179262}. Best is trial 13 with value: 0.07406067624688148.\n",
      "[I 2025-02-24 17:02:25,955] Trial 18 finished with value: 0.3346316397190094 and parameters: {'hidden_size_1': 155, 'hidden_size_2': 102, 'hidden_size_3': 44, 'dropout_prob': 0.2674267201074431, 'learning_rate': 0.0006259276757305491}. Best is trial 13 with value: 0.07406067624688148.\n",
      "[I 2025-02-24 17:02:33,952] Trial 19 finished with value: 0.1283235177397728 and parameters: {'hidden_size_1': 255, 'hidden_size_2': 79, 'hidden_size_3': 24, 'dropout_prob': 0.31171552245627326, 'learning_rate': 0.0041945889498906895}. Best is trial 13 with value: 0.07406067624688148.\n",
      "[I 2025-02-24 17:02:43,015] Trial 20 finished with value: 0.5947669982910156 and parameters: {'hidden_size_1': 230, 'hidden_size_2': 115, 'hidden_size_3': 22, 'dropout_prob': 0.2245715794165114, 'learning_rate': 0.0001618723362136428}. Best is trial 13 with value: 0.07406067624688148.\n",
      "[I 2025-02-24 17:02:49,713] Trial 21 finished with value: 0.0851354569196701 and parameters: {'hidden_size_1': 256, 'hidden_size_2': 85, 'hidden_size_3': 16, 'dropout_prob': 0.20366796881386412, 'learning_rate': 0.009130752371937605}. Best is trial 13 with value: 0.07406067624688148.\n",
      "[I 2025-02-24 17:02:57,874] Trial 22 finished with value: 0.12516117990016937 and parameters: {'hidden_size_1': 243, 'hidden_size_2': 96, 'hidden_size_3': 29, 'dropout_prob': 0.20556063531568627, 'learning_rate': 0.00328421375217924}. Best is trial 13 with value: 0.07406067624688148.\n",
      "[I 2025-02-24 17:03:03,405] Trial 23 finished with value: 0.08450766205787659 and parameters: {'hidden_size_1': 215, 'hidden_size_2': 69, 'hidden_size_3': 16, 'dropout_prob': 0.23868432254262215, 'learning_rate': 0.008743503597320974}. Best is trial 13 with value: 0.07406067624688148.\n",
      "[I 2025-02-24 17:03:10,958] Trial 24 finished with value: 1.1318589448928833 and parameters: {'hidden_size_1': 239, 'hidden_size_2': 80, 'hidden_size_3': 21, 'dropout_prob': 0.2601828730275864, 'learning_rate': 1.0922333770919765e-05}. Best is trial 13 with value: 0.07406067624688148.\n",
      "[I 2025-02-24 17:03:17,246] Trial 25 finished with value: 0.08755577504634857 and parameters: {'hidden_size_1': 188, 'hidden_size_2': 99, 'hidden_size_3': 29, 'dropout_prob': 0.20127300739337933, 'learning_rate': 0.006379905772801037}. Best is trial 13 with value: 0.07406067624688148.\n",
      "[I 2025-02-24 17:03:26,199] Trial 26 finished with value: 0.18849800229072572 and parameters: {'hidden_size_1': 242, 'hidden_size_2': 113, 'hidden_size_3': 20, 'dropout_prob': 0.2263568171228747, 'learning_rate': 0.0029519090856110256}. Best is trial 13 with value: 0.07406067624688148.\n",
      "[I 2025-02-24 17:03:33,226] Trial 27 finished with value: 0.2769914150238037 and parameters: {'hidden_size_1': 218, 'hidden_size_2': 90, 'hidden_size_3': 30, 'dropout_prob': 0.28416641066790244, 'learning_rate': 0.001122813111225699}. Best is trial 13 with value: 0.07406067624688148.\n",
      "[I 2025-02-24 17:03:38,616] Trial 28 finished with value: 0.11716613620519638 and parameters: {'hidden_size_1': 155, 'hidden_size_2': 72, 'hidden_size_3': 16, 'dropout_prob': 0.4259008267144012, 'learning_rate': 0.006089840719616266}. Best is trial 13 with value: 0.07406067624688148.\n",
      "[I 2025-02-24 17:03:45,938] Trial 29 finished with value: 0.18359573185443878 and parameters: {'hidden_size_1': 199, 'hidden_size_2': 105, 'hidden_size_3': 23, 'dropout_prob': 0.22671172413043567, 'learning_rate': 0.0024097314095635103}. Best is trial 13 with value: 0.07406067624688148.\n",
      "[I 2025-02-24 17:03:53,287] Trial 30 finished with value: 0.18432850241661072 and parameters: {'hidden_size_1': 219, 'hidden_size_2': 62, 'hidden_size_3': 64, 'dropout_prob': 0.31562693328958974, 'learning_rate': 0.0013713381552904655}. Best is trial 13 with value: 0.07406067624688148.\n",
      "[I 2025-02-24 17:03:59,038] Trial 31 finished with value: 0.07779120802879333 and parameters: {'hidden_size_1': 217, 'hidden_size_2': 69, 'hidden_size_3': 16, 'dropout_prob': 0.23885259202039855, 'learning_rate': 0.009953603681939548}. Best is trial 13 with value: 0.07406067624688148.\n",
      "[I 2025-02-24 17:04:07,405] Trial 32 finished with value: 0.0759982280433178 and parameters: {'hidden_size_1': 246, 'hidden_size_2': 84, 'hidden_size_3': 19, 'dropout_prob': 0.21732949660702625, 'learning_rate': 0.009466172519809675}. Best is trial 13 with value: 0.07406067624688148.\n",
      "[I 2025-02-24 17:04:15,002] Trial 33 finished with value: 0.10318865925073624 and parameters: {'hidden_size_1': 243, 'hidden_size_2': 76, 'hidden_size_3': 21, 'dropout_prob': 0.2509772294945663, 'learning_rate': 0.005909121390533902}. Best is trial 13 with value: 0.07406067624688148.\n",
      "[I 2025-02-24 17:04:21,728] Trial 34 finished with value: 0.17347555458545685 and parameters: {'hidden_size_1': 238, 'hidden_size_2': 54, 'hidden_size_3': 19, 'dropout_prob': 0.22068590917806732, 'learning_rate': 0.0033187763139362575}. Best is trial 13 with value: 0.07406067624688148.\n",
      "[I 2025-02-24 17:04:29,525] Trial 35 finished with value: 0.07645959854125976 and parameters: {'hidden_size_1': 225, 'hidden_size_2': 83, 'hidden_size_3': 38, 'dropout_prob': 0.2742612996648691, 'learning_rate': 0.0066298809825167644}. Best is trial 13 with value: 0.07406067624688148.\n",
      "[I 2025-02-24 17:04:37,222] Trial 36 finished with value: 0.16656292378902435 and parameters: {'hidden_size_1': 246, 'hidden_size_2': 84, 'hidden_size_3': 44, 'dropout_prob': 0.3342245341500703, 'learning_rate': 0.0018764404617444045}. Best is trial 13 with value: 0.07406067624688148.\n",
      "[I 2025-02-24 17:04:45,733] Trial 37 finished with value: 0.07760965898633003 and parameters: {'hidden_size_1': 227, 'hidden_size_2': 98, 'hidden_size_3': 37, 'dropout_prob': 0.2729873769404942, 'learning_rate': 0.006472323823399766}. Best is trial 13 with value: 0.07406067624688148.\n",
      "[I 2025-02-24 17:04:50,835] Trial 38 finished with value: 0.11898807138204574 and parameters: {'hidden_size_1': 111, 'hidden_size_2': 109, 'hidden_size_3': 34, 'dropout_prob': 0.385026169578209, 'learning_rate': 0.0038030268224623154}. Best is trial 13 with value: 0.07406067624688148.\n",
      "[I 2025-02-24 17:04:57,587] Trial 39 finished with value: 0.11961346268653869 and parameters: {'hidden_size_1': 192, 'hidden_size_2': 76, 'hidden_size_3': 50, 'dropout_prob': 0.21863141135904107, 'learning_rate': 0.002476464940142835}. Best is trial 13 with value: 0.07406067624688148.\n",
      "[I 2025-02-24 17:05:03,250] Trial 40 finished with value: 0.0781837247312069 and parameters: {'hidden_size_1': 210, 'hidden_size_2': 64, 'hidden_size_3': 42, 'dropout_prob': 0.30219988806411857, 'learning_rate': 0.006681815137027969}. Best is trial 13 with value: 0.07406067624688148.\n",
      "[I 2025-02-24 17:05:11,799] Trial 41 finished with value: 0.07735050693154336 and parameters: {'hidden_size_1': 226, 'hidden_size_2': 94, 'hidden_size_3': 37, 'dropout_prob': 0.264851411855734, 'learning_rate': 0.0064792523604418825}. Best is trial 13 with value: 0.07406067624688148.\n",
      "[I 2025-02-24 17:05:19,387] Trial 42 finished with value: 0.09679163247346878 and parameters: {'hidden_size_1': 234, 'hidden_size_2': 94, 'hidden_size_3': 38, 'dropout_prob': 0.2557742362067907, 'learning_rate': 0.0043796136832181575}. Best is trial 13 with value: 0.07406067624688148.\n",
      "[I 2025-02-24 17:05:27,862] Trial 43 finished with value: 0.08364389985799789 and parameters: {'hidden_size_1': 248, 'hidden_size_2': 83, 'hidden_size_3': 34, 'dropout_prob': 0.27712494970512647, 'learning_rate': 0.006792868741774635}. Best is trial 13 with value: 0.07406067624688148.\n",
      "[I 2025-02-24 17:05:31,528] Trial 44 finished with value: 0.42080244421958923 and parameters: {'hidden_size_1': 67, 'hidden_size_2': 87, 'hidden_size_3': 32, 'dropout_prob': 0.2363712107224004, 'learning_rate': 0.0007199447027147002}. Best is trial 13 with value: 0.07406067624688148.\n",
      "[I 2025-02-24 17:05:39,650] Trial 45 finished with value: 0.08129573762416839 and parameters: {'hidden_size_1': 223, 'hidden_size_2': 92, 'hidden_size_3': 27, 'dropout_prob': 0.21473239445923104, 'learning_rate': 0.0076169829125775045}. Best is trial 13 with value: 0.07406067624688148.\n",
      "[I 2025-02-24 17:05:47,540] Trial 46 finished with value: 0.08795267194509507 and parameters: {'hidden_size_1': 248, 'hidden_size_2': 79, 'hidden_size_3': 42, 'dropout_prob': 0.3361090460165198, 'learning_rate': 0.004925812112421474}. Best is trial 13 with value: 0.07406067624688148.\n",
      "[I 2025-02-24 17:05:53,651] Trial 47 finished with value: 0.8485578656196594 and parameters: {'hidden_size_1': 208, 'hidden_size_2': 33, 'hidden_size_3': 52, 'dropout_prob': 0.4797937697934604, 'learning_rate': 0.00012936401997697917}. Best is trial 13 with value: 0.07406067624688148.\n",
      "[I 2025-02-24 17:05:59,843] Trial 48 finished with value: 0.0630494087934494 and parameters: {'hidden_size_1': 179, 'hidden_size_2': 104, 'hidden_size_3': 36, 'dropout_prob': 0.258592227604231, 'learning_rate': 0.009986947767394607}. Best is trial 48 with value: 0.0630494087934494.\n",
      "[I 2025-02-24 17:06:07,015] Trial 49 finished with value: 0.07025885134935379 and parameters: {'hidden_size_1': 175, 'hidden_size_2': 102, 'hidden_size_3': 40, 'dropout_prob': 0.36611920576474977, 'learning_rate': 0.009796617426924911}. Best is trial 48 with value: 0.0630494087934494.\n"
     ]
    },
    {
     "name": "stdout",
     "output_type": "stream",
     "text": [
      "Best Hyperparameters Found by Optuna: {'hidden_size_1': 179, 'hidden_size_2': 104, 'hidden_size_3': 36, 'dropout_prob': 0.258592227604231, 'learning_rate': 0.009986947767394607}\n",
      "Test Accuracy: 98.02%\n",
      "Precision: 0.9803, Recall: 0.9802, F1-Score: 0.9802\n",
      "Model saved to /content/drive/My Drive/Aquatic life/water_quality_model.pth\n",
      "Scaler saved to /content/drive/My Drive/Aquatic life/scaler.pkl\n"
     ]
    },
    {
     "data": {
      "image/png": "[encoded data removed]",
      "text/plain": [
       "<Figure size 600x600 with 2 Axes>"
      ]
     },
     "metadata": {},
     "output_type": "display_data"
    },
    {
     "name": "stdout",
     "output_type": "stream",
     "text": [
      "Total Misclassified Samples: 17\n"
     ]
    }
   ],
   "source": [
    "import torch\n",
    "import torch.nn as nn\n",
    "import torch.optim as optim\n",
    "import pandas as pd\n",
    "import numpy as np\n",
    "import pickle\n",
    "import matplotlib.pyplot as plt\n",
    "import seaborn as sns\n",
    "from sklearn.model_selection import StratifiedKFold, train_test_split\n",
    "from sklearn.preprocessing import StandardScaler\n",
    "from sklearn.metrics import accuracy_score, f1_score, precision_score, recall_score, confusion_matrix, classification_report\n",
    "from torch.utils.data import DataLoader, TensorDataset\n",
    "import optuna\n",
    "from sklearn.utils.class_weight import compute_class_weight\n",
    "\n",
    "# Mount Google Drive\n",
    "from google.colab import drive\n",
    "drive.mount('/content/drive')\n",
    "\n",
    "# Load dataset\n",
    "data = pd.read_csv('/content/drive/My Drive/Aquatic life/Finaldata.csv')\n",
    "\n",
    "# Visualize class distribution\n",
    "plt.figure(figsize=(6,4))\n",
    "sns.countplot(x=data['WaterQuality'], palette=\"viridis\", hue=data['WaterQuality'], legend=False)\n",
    "plt.title(\"Class Distribution Before Scaling\")\n",
    "plt.xlabel(\"Water Quality Classes\")\n",
    "plt.ylabel(\"Count\")\n",
    "plt.show()\n",
    "\n",
    "# Preprocessing\n",
    "X = data.drop('WaterQuality', axis=1).values\n",
    "y = data['WaterQuality'].values\n",
    "\n",
    "scaler = StandardScaler()\n",
    "X_scaled = scaler.fit_transform(X)\n",
    "\n",
    "# Compute Class Weights\n",
    "class_weights = compute_class_weight('balanced', classes=np.unique(y), y=y)\n",
    "class_weights = torch.tensor(class_weights, dtype=torch.float32)\n",
    "\n",
    "# Convert to PyTorch tensors\n",
    "X_tensor = torch.tensor(X_scaled, dtype=torch.float32)\n",
    "y_tensor = torch.tensor(y, dtype=torch.long)\n",
    "\n",
    "# Define Neural Network\n",
    "class WaterQualityNN(nn.Module):\n",
    "    def __init__(self, input_size, hidden_size_1, hidden_size_2, hidden_size_3, dropout_prob):\n",
    "        super(WaterQualityNN, self).__init__()\n",
    "        self.fc1 = nn.Linear(input_size, hidden_size_1)\n",
    "        self.bn1 = nn.BatchNorm1d(hidden_size_1)\n",
    "        self.fc2 = nn.Linear(hidden_size_1, hidden_size_2)\n",
    "        self.bn2 = nn.BatchNorm1d(hidden_size_2)\n",
    "        self.fc3 = nn.Linear(hidden_size_2, hidden_size_3)\n",
    "        self.bn3 = nn.BatchNorm1d(hidden_size_3)\n",
    "        self.fc4 = nn.Linear(hidden_size_3, 3)\n",
    "        self.relu = nn.ReLU()\n",
    "        self.dropout = nn.Dropout(p=dropout_prob)\n",
    "\n",
    "    def forward(self, x):\n",
    "        x = self.relu(self.bn1(self.fc1(x)))\n",
    "        x = self.dropout(x)\n",
    "        x = self.relu(self.bn2(self.fc2(x)))\n",
    "        x = self.dropout(x)\n",
    "        x = self.relu(self.bn3(self.fc3(x)))\n",
    "        return self.fc4(x)\n",
    "\n",
    "# Define Optuna Optimization\n",
    "def objective(trial):\n",
    "    hidden_size_1 = trial.suggest_int('hidden_size_1', 64, 256)\n",
    "    hidden_size_2 = trial.suggest_int('hidden_size_2', 32, 128)\n",
    "    hidden_size_3 = trial.suggest_int('hidden_size_3', 16, 64)\n",
    "    dropout_prob = trial.suggest_float('dropout_prob', 0.2, 0.5)\n",
    "    learning_rate = trial.suggest_float('learning_rate', 1e-5, 1e-2, log=True)\n",
    "\n",
    "    skf = StratifiedKFold(n_splits=5, shuffle=True, random_state=42)\n",
    "    val_losses = []\n",
    "\n",
    "    for train_idx, val_idx in skf.split(X_scaled, y):\n",
    "        X_train, X_val = X_scaled[train_idx], X_scaled[val_idx]\n",
    "        y_train, y_val = y[train_idx], y[val_idx]\n",
    "\n",
    "        model = WaterQualityNN(X_scaled.shape[1], hidden_size_1, hidden_size_2, hidden_size_3, dropout_prob)\n",
    "        optimizer = optim.Adam(model.parameters(), lr=learning_rate)\n",
    "        criterion = nn.CrossEntropyLoss(weight=class_weights)\n",
    "\n",
    "        X_train_tensor = torch.tensor(X_train, dtype=torch.float32)\n",
    "        y_train_tensor = torch.tensor(y_train, dtype=torch.long)\n",
    "        X_val_tensor = torch.tensor(X_val, dtype=torch.float32)\n",
    "        y_val_tensor = torch.tensor(y_val, dtype=torch.long)\n",
    "\n",
    "        model.train()\n",
    "        for epoch in range(50):\n",
    "            optimizer.zero_grad()\n",
    "            outputs = model(X_train_tensor)\n",
    "            loss = criterion(outputs, y_train_tensor)\n",
    "            loss.backward()\n",
    "            optimizer.step()\n",
    "\n",
    "        model.eval()\n",
    "        with torch.no_grad():\n",
    "            val_outputs = model(X_val_tensor)\n",
    "            val_loss = criterion(val_outputs, y_val_tensor)\n",
    "            val_losses.append(val_loss.item())\n",
    "\n",
    "    return np.mean(val_losses)\n",
    "\n",
    "# Run Optuna Optimization\n",
    "study = optuna.create_study(direction='minimize')\n",
    "study.optimize(objective, n_trials=50)\n",
    "\n",
    "# Train-Test Split\n",
    "X_train, X_test, y_train, y_test = train_test_split(X_scaled, y, test_size=0.2, random_state=42, stratify=y)\n",
    "\n",
    "X_train_tensor = torch.tensor(X_train, dtype=torch.float32)\n",
    "y_train_tensor = torch.tensor(y_train, dtype=torch.long)\n",
    "X_test_tensor = torch.tensor(X_test, dtype=torch.float32)\n",
    "y_test_tensor = torch.tensor(y_test, dtype=torch.long)\n",
    "\n",
    "# Train Final Model\n",
    "best_params = study.best_params\n",
    "model = WaterQualityNN(X_scaled.shape[1], best_params['hidden_size_1'], best_params['hidden_size_2'], best_params['hidden_size_3'], best_params['dropout_prob'])\n",
    "optimizer = optim.Adam(model.parameters(), lr=best_params['learning_rate'])\n",
    "criterion = nn.CrossEntropyLoss(weight=class_weights)\n",
    "\n",
    "model.train()\n",
    "for epoch in range(100):\n",
    "    optimizer.zero_grad()\n",
    "    outputs = model(X_train_tensor)\n",
    "    loss = criterion(outputs, y_train_tensor)\n",
    "    loss.backward()\n",
    "    optimizer.step()\n",
    "\n",
    "# Evaluate Model\n",
    "model.eval()\n",
    "with torch.no_grad():\n",
    "    outputs = model(X_test_tensor)\n",
    "    _, predicted = torch.max(outputs, 1)\n",
    "\n",
    "# Compute Metrics\n",
    "accuracy = accuracy_score(y_test, predicted)\n",
    "precision = precision_score(y_test, predicted, average='weighted')\n",
    "recall = recall_score(y_test, predicted, average='weighted')\n",
    "f1 = f1_score(y_test, predicted, average='weighted')\n",
    "\n",
    "# Print Results\n",
    "print(\"Best Hyperparameters Found by Optuna:\", best_params)\n",
    "print(f\"Test Accuracy: {accuracy * 100:.2f}%\\nPrecision: {precision:.4f}, Recall: {recall:.4f}, F1-Score: {f1:.4f}\")\n",
    "\n",
    "# Save the trained model\n",
    "model_path = \"/content/drive/My Drive/Aquatic life/water_quality_model.pth\"\n",
    "torch.save(model.state_dict(), model_path)\n",
    "print(f\"Model saved to {model_path}\")\n",
    "\n",
    "# Save the scaler for consistent preprocessing during inference\n",
    "scaler_path = \"/content/drive/My Drive/Aquatic life/scaler.pkl\"\n",
    "with open(scaler_path, 'wb') as f:\n",
    "    pickle.dump(scaler, f)\n",
    "print(f\"Scaler saved to {scaler_path}\")\n",
    "\n",
    "# Confusion Matrix\n",
    "cm = confusion_matrix(y_test, predicted)\n",
    "plt.figure(figsize=(6,6))\n",
    "sns.heatmap(cm, annot=True, fmt='d', cmap='Blues', xticklabels=np.unique(y), yticklabels=np.unique(y))\n",
    "plt.xlabel('Predicted')\n",
    "plt.ylabel('Actual')\n",
    "plt.title('Confusion Matrix')\n",
    "plt.show()\n",
    "\n",
    "\n",
    "# Misclassified Samples Analysis\n",
    "misclassified_indices = np.where(y_test != predicted.numpy())[0]\n",
    "print(f\"Total Misclassified Samples: {len(misclassified_indices)}\")\n"
   ]
  },
  {
   "cell_type": "code",
   "execution_count": null,
   "id": "JV9ziK7sDq-a",
   "metadata": {
    "id": "JV9ziK7sDq-a"
   },
   "outputs": [],
   "source": []
  },
  {
   "cell_type": "code",
   "execution_count": null,
   "id": "SAM3fjj55b-_",
   "metadata": {
    "id": "SAM3fjj55b-_"
   },
   "outputs": [],
   "source": []
  },
  {
   "cell_type": "code",
   "execution_count": null,
   "id": "0e65124d-e03b-428a-9bd5-d32ef9f8a7f0",
   "metadata": {},
   "outputs": [],
   "source": []
  },
  {
   "cell_type": "code",
   "execution_count": 1,
   "id": "5d1b8b1c-9fb3-4520-9fd8-d44b815a00cb",
   "metadata": {},
   "outputs": [
    {
     "name": "stdout",
     "output_type": "stream",
     "text": [
      "Enter values for the 14 features:\n"
     ]
    },
    {
     "name": "stdin",
     "output_type": "stream",
     "text": [
      "Temp:  56\n",
      "Turbidity:  85\n",
      "DO:  455\n",
      "BOD:  41\n",
      "CO2:  225\n",
      "ph\t:  7.0\n",
      "Alkalinity (mg L-1 ):  532.2\n",
      "Hardness (mg L-1 ):  52.55\n",
      "Calcium (mg L-1 ):  82\n",
      "Ammonia (mg L-1 ):  563\n",
      "Nitrite (mg L-1 ):  23\n",
      "Phosphorus (mg L-1 ):  51\n",
      "H2S (mg L-1 ):  52\n",
      "Plankton:  563.3\n"
     ]
    },
    {
     "name": "stdout",
     "output_type": "stream",
     "text": [
      "Predicted Water Quality: Excellent\n"
     ]
    }
   ],
   "source": [
    "import torch\n",
    "import pickle\n",
    "import numpy as np\n",
    "from sklearn.preprocessing import StandardScaler\n",
    "\n",
    "# Define Neural Network Class (Must match the trained model structure)\n",
    "class WaterQualityNN(torch.nn.Module):\n",
    "    def __init__(self, input_size, hidden_size_1, hidden_size_2, hidden_size_3, dropout_prob):\n",
    "        super(WaterQualityNN, self).__init__()\n",
    "        self.fc1 = torch.nn.Linear(input_size, hidden_size_1)\n",
    "        self.bn1 = torch.nn.BatchNorm1d(hidden_size_1)\n",
    "        self.fc2 = torch.nn.Linear(hidden_size_1, hidden_size_2)\n",
    "        self.bn2 = torch.nn.BatchNorm1d(hidden_size_2)\n",
    "        self.fc3 = torch.nn.Linear(hidden_size_2, hidden_size_3)\n",
    "        self.bn3 = torch.nn.BatchNorm1d(hidden_size_3)\n",
    "        self.fc4 = torch.nn.Linear(hidden_size_3, 3)\n",
    "        self.relu = torch.nn.ReLU()\n",
    "        self.dropout = torch.nn.Dropout(p=dropout_prob)\n",
    "\n",
    "    def forward(self, x):\n",
    "        x = self.relu(self.bn1(self.fc1(x)))\n",
    "        x = self.dropout(x)\n",
    "        x = self.relu(self.bn2(self.fc2(x)))\n",
    "        x = self.dropout(x)\n",
    "        x = self.relu(self.bn3(self.fc3(x)))\n",
    "        return self.fc4(x)\n",
    "\n",
    "# Load the trained model\n",
    "model_path = \"C:\\\\Users\\\\aksha\\\\Projects\\\\Research\\\\Aquatic life\\\\water_quality_model.pth\"\n",
    "scaler_path = \"C:\\\\Users\\\\aksha\\\\Projects\\\\Research\\\\Aquatic life\\\\scaler.pkl\"\n",
    "\n",
    "# Load scaler\n",
    "with open(scaler_path, 'rb') as f:\n",
    "    scaler = pickle.load(f)\n",
    "\n",
    "# Best hyperparameters from Optuna\n",
    "best_params = {\n",
    "    'hidden_size_1': 179,\n",
    "    'hidden_size_2': 104,\n",
    "    'hidden_size_3': 36,\n",
    "    'dropout_prob': 0.2586\n",
    "}\n",
    "\n",
    "# Create model instance\n",
    "model = WaterQualityNN(input_size=14, **best_params)\n",
    "\n",
    "# Load saved model weights\n",
    "model.load_state_dict(torch.load(model_path))\n",
    "model.eval()\n",
    "\n",
    "# Define class labels\n",
    "class_labels = {0: \"Excellent\", 1: \"Good\", 2: \"Poor\"}\n",
    "\n",
    "# Get user input for 14 features\n",
    "user_input = []\n",
    "feature_names = [\n",
    "    \"Temp\", \"Turbidity\", \"DO\", \"BOD\", \"CO2\",\n",
    "    \"ph\t\", \"Alkalinity (mg L-1 )\", \"Hardness (mg L-1 )\", \"Calcium (mg L-1 )\", \"Ammonia (mg L-1 )\",\n",
    "    \"Nitrite (mg L-1 )\", \"Phosphorus (mg L-1 )\", \"H2S (mg L-1 )\",\"Plankton\"\n",
    "]\n",
    "\n",
    "\n",
    "print(\"Enter values for the 14 features:\")\n",
    "for feature in feature_names:\n",
    "    value = float(input(f\"{feature}: \"))\n",
    "    user_input.append(value)\n",
    "\n",
    "# Convert user input to numpy array and scale it\n",
    "user_input_array = np.array(user_input).reshape(1, -1)\n",
    "user_input_scaled = scaler.transform(user_input_array)\n",
    "\n",
    "# Convert to PyTorch tensor\n",
    "user_input_tensor = torch.tensor(user_input_scaled, dtype=torch.float32)\n",
    "\n",
    "# Make prediction\n",
    "with torch.no_grad():\n",
    "    output = model(user_input_tensor)\n",
    "    predicted_class = torch.argmax(output, dim=1).item()\n",
    "\n",
    "# Print result\n",
    "print(f\"Predicted Water Quality: {class_labels[predicted_class]}\")\n"
   ]
  },
  {
   "cell_type": "markdown",
   "id": "d23f6e2c-c8e9-4b61-b3eb-09f6978dfefc",
   "metadata": {},
   "source": [
    "import torch\n",
    "import pickle\n",
    "import numpy as np\n",
    "from sklearn.preprocessing import StandardScaler\n",
    "\n",
    "# Define Neural Network Class (Must match the trained model structure)\n",
    "class WaterQualityNN(torch.nn.Module):\n",
    "    def __init__(self, input_size, hidden_size_1, hidden_size_2, hidden_size_3, dropout_prob):\n",
    "        super(WaterQualityNN, self).__init__()\n",
    "        self.fc1 = torch.nn.Linear(input_size, hidden_size_1)\n",
    "        self.bn1 = torch.nn.BatchNorm1d(hidden_size_1)\n",
    "        self.fc2 = torch.nn.Linear(hidden_size_1, hidden_size_2)\n",
    "        self.bn2 = torch.nn.BatchNorm1d(hidden_size_2)\n",
    "        self.fc3 = torch.nn.Linear(hidden_size_2, hidden_size_3)\n",
    "        self.bn3 = torch.nn.BatchNorm1d(hidden_size_3)\n",
    "        self.fc4 = torch.nn.Linear(hidden_size_3, 3)\n",
    "        self.relu = torch.nn.ReLU()\n",
    "        self.dropout = torch.nn.Dropout(p=dropout_prob)\n",
    "\n",
    "    def forward(self, x):\n",
    "        x = self.relu(self.bn1(self.fc1(x)))\n",
    "        x = self.dropout(x)\n",
    "        x = self.relu(self.bn2(self.fc2(x)))\n",
    "        x = self.dropout(x)\n",
    "        x = self.relu(self.bn3(self.fc3(x)))\n",
    "        return self.fc4(x)\n",
    "\n",
    "# Load the trained model\n",
    "model_path = \"C:\\\\Users\\\\aksha\\\\Projects\\\\Research\\\\Aquatic life\\\\water_quality_model.pth\"\n",
    "scaler_path = \"C:\\\\Users\\\\aksha\\\\Projects\\\\Research\\\\Aquatic life\\\\scaler.pkl\"\n",
    "\n",
    "# Load scaler\n",
    "with open(scaler_path, 'rb') as f:\n",
    "    scaler = pickle.load(f)\n",
    "\n",
    "# Best hyperparameters from Optuna\n",
    "best_params = {\n",
    "    'hidden_size_1': 179,\n",
    "    'hidden_size_2': 104,\n",
    "    'hidden_size_3': 36,\n",
    "    'dropout_prob': 0.2586\n",
    "}\n",
    "\n",
    "# Create model instance\n",
    "model = WaterQualityNN(input_size=14, **best_params)\n",
    "\n",
    "# Load saved model weights\n",
    "model.load_state_dict(torch.load(model_path))\n",
    "model.eval()\n",
    "\n",
    "# Define class labels\n",
    "class_labels = {0: \"Excellent\", 1: \"Good\", 2: \"Poor\"}\n",
    "\n",
    "# Get user input for 14 features\n",
    "user_input = []\n",
    "feature_names = [\n",
    "    \"Temp\", \"Turbidity\", \"DO\", \"BOD\", \"CO2\",\n",
    "    \"ph\t\", \"Alkalinity (mg L-1 )\", \"Hardness (mg L-1 )\", \"Calcium (mg L-1 )\", \"Ammonia (mg L-1 )\",\n",
    "    \"Nitrite (mg L-1 )\", \"Phosphorus (mg L-1 )\", \"H2S (mg L-1 )\",\"Plankton\"\n",
    "]\n",
    "\n",
    "\n",
    "print(\"Enter values for the 14 features:\")\n",
    "for feature in feature_names:\n",
    "    value = float(input(f\"{feature}: \"))\n",
    "    user_input.append(value)\n",
    "\n",
    "# Convert user input to numpy array and scale it\n",
    "user_input_array = np.array(user_input).reshape(1, -1)\n",
    "user_input_scaled = scaler.transform(user_input_array)\n",
    "\n",
    "# Convert to PyTorch tensor\n",
    "user_input_tensor = torch.tensor(user_input_scaled, dtype=torch.float32)\n",
    "\n",
    "# Make prediction\n",
    "with torch.no_grad():\n",
    "    output = model(user_input_tensor)\n",
    "    predicted_class = torch.argmax(output, dim=1).item()\n",
    "\n",
    "# Print result\n",
    "print(f\"Predicted Water Quality: {class_labels[predicted_class]}\")\n"
   ]
  },
  {
   "cell_type": "code",
   "execution_count": 2,
   "id": "71e9b38f-7e23-4c77-9ec3-cf8f8adaf6de",
   "metadata": {},
   "outputs": [
    {
     "name": "stdout",
     "output_type": "stream",
     "text": [
      "Enter values for the 14 features:\n"
     ]
    },
    {
     "name": "stdin",
     "output_type": "stream",
     "text": [
      "Temp:  0\n",
      "Turbidity:  2\n",
      "DO:  3\n",
      "BOD:  4\n",
      "CO2:  5\n",
      "ph\t:  8\n",
      "Alkalinity (mg L-1 ):  9\n",
      "Hardness (mg L-1 ):  5\n",
      "Calcium (mg L-1 ):  5\n",
      "Ammonia (mg L-1 ):  5\n",
      "Nitrite (mg L-1 ):  5\n",
      "Phosphorus (mg L-1 ):  2\n",
      "H2S (mg L-1 ):  5\n",
      "Plankton:  2\n"
     ]
    },
    {
     "name": "stdout",
     "output_type": "stream",
     "text": [
      "Predicted Water Quality: Excellent\n"
     ]
    }
   ],
   "source": [
    "import torch\n",
    "import pickle\n",
    "import numpy as np\n",
    "from sklearn.preprocessing import StandardScaler\n",
    "\n",
    "# Define Neural Network Class (Must match the trained model structure)\n",
    "class WaterQualityNN(torch.nn.Module):\n",
    "    def __init__(self, input_size, hidden_size_1, hidden_size_2, hidden_size_3, dropout_prob):\n",
    "        super(WaterQualityNN, self).__init__()\n",
    "        self.fc1 = torch.nn.Linear(input_size, hidden_size_1)\n",
    "        self.bn1 = torch.nn.BatchNorm1d(hidden_size_1)\n",
    "        self.fc2 = torch.nn.Linear(hidden_size_1, hidden_size_2)\n",
    "        self.bn2 = torch.nn.BatchNorm1d(hidden_size_2)\n",
    "        self.fc3 = torch.nn.Linear(hidden_size_2, hidden_size_3)\n",
    "        self.bn3 = torch.nn.BatchNorm1d(hidden_size_3)\n",
    "        self.fc4 = torch.nn.Linear(hidden_size_3, 3)\n",
    "        self.relu = torch.nn.ReLU()\n",
    "        self.dropout = torch.nn.Dropout(p=dropout_prob)\n",
    "\n",
    "    def forward(self, x):\n",
    "        x = self.relu(self.bn1(self.fc1(x)))\n",
    "        x = self.dropout(x)\n",
    "        x = self.relu(self.bn2(self.fc2(x)))\n",
    "        x = self.dropout(x)\n",
    "        x = self.relu(self.bn3(self.fc3(x)))\n",
    "        return self.fc4(x)\n",
    "\n",
    "# Load the trained model\n",
    "model_path = \"C:\\\\Users\\\\aksha\\\\Projects\\\\Research\\\\Aquatic life\\\\water_quality_model.pth\"\n",
    "scaler_path = \"C:\\\\Users\\\\aksha\\\\Projects\\\\Research\\\\Aquatic life\\\\scaler.pkl\"\n",
    "\n",
    "# Load scaler\n",
    "with open(scaler_path, 'rb') as f:\n",
    "    scaler = pickle.load(f)\n",
    "\n",
    "# Best hyperparameters from Optuna\n",
    "best_params = {\n",
    "    'hidden_size_1': 179,\n",
    "    'hidden_size_2': 104,\n",
    "    'hidden_size_3': 36,\n",
    "    'dropout_prob': 0.2586\n",
    "}\n",
    "\n",
    "# Create model instance\n",
    "model = WaterQualityNN(input_size=14, **best_params)\n",
    "\n",
    "# Load saved model weights\n",
    "model.load_state_dict(torch.load(model_path))\n",
    "model.eval()\n",
    "\n",
    "# Define class labels\n",
    "class_labels = {0: \"Excellent\", 1: \"Good\", 2: \"Poor\"}\n",
    "\n",
    "# Get user input for 14 features\n",
    "user_input = []\n",
    "feature_names = [\n",
    "    \"Temp\", \"Turbidity\", \"DO\", \"BOD\", \"CO2\",\n",
    "    \"ph\t\", \"Alkalinity (mg L-1 )\", \"Hardness (mg L-1 )\", \"Calcium (mg L-1 )\", \"Ammonia (mg L-1 )\",\n",
    "    \"Nitrite (mg L-1 )\", \"Phosphorus (mg L-1 )\", \"H2S (mg L-1 )\",\"Plankton\"\n",
    "]\n",
    "\n",
    "\n",
    "print(\"Enter values for the 14 features:\")\n",
    "for feature in feature_names:\n",
    "    value = float(input(f\"{feature}: \"))\n",
    "    user_input.append(value)\n",
    "\n",
    "# Convert user input to numpy array and scale it\n",
    "user_input_array = np.array(user_input).reshape(1, -1)\n",
    "user_input_scaled = scaler.transform(user_input_array)\n",
    "\n",
    "# Convert to PyTorch tensor\n",
    "user_input_tensor = torch.tensor(user_input_scaled, dtype=torch.float32)\n",
    "\n",
    "# Make prediction\n",
    "with torch.no_grad():\n",
    "    output = model(user_input_tensor)\n",
    "    predicted_class = torch.argmax(output, dim=1).item()\n",
    "\n",
    "# Print result\n",
    "print(f\"Predicted Water Quality: {class_labels[predicted_class]}\")\n"
   ]
  },
  {
   "cell_type": "code",
   "execution_count": null,
   "id": "358774e6-97e3-4259-b9e8-1c89ea627145",
   "metadata": {},
   "outputs": [],
   "source": []
  }
 ],
 "metadata": {
  "accelerator": "TPU",
  "colab": {
   "gpuType": "V28",
   "provenance": []
  },
  "kernelspec": {
   "display_name": "Python 3 (ipykernel)",
   "language": "python",
   "name": "python3"
  },
  "language_info": {
   "codemirror_mode": {
    "name": "ipython",
    "version": 3
   },
   "file_extension": ".py",
   "mimetype": "text/x-python",
   "name": "python",
   "nbconvert_exporter": "python",
   "pygments_lexer": "ipython3",
   "version": "3.12.7"
  }
 },
 "nbformat": 4,
 "nbformat_minor": 5
}
